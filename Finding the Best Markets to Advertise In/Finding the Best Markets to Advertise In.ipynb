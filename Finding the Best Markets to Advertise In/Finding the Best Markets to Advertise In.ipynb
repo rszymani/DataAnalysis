{
 "cells": [
  {
   "cell_type": "markdown",
   "metadata": {
    "collapsed": true
   },
   "source": [
    "# Finding the Best Markets to Advertise in\n",
    "\n",
    "The project is to help gain a knowledge about e-learning company products - courses about programing, data science, game development. Our fake company is mostly fosuses on web and mobile development.\n",
    "\n",
    "The goal of the projest to find out two best markets to optimize invests in advertisment.\n"
   ]
  },
  {
   "cell_type": "code",
   "execution_count": 25,
   "metadata": {
    "collapsed": true
   },
   "outputs": [],
   "source": [
    "import pandas as pd\n",
    "import matplotlib.pyplot as plt\n",
    "%matplotlib inline"
   ]
  },
  {
   "cell_type": "code",
   "execution_count": 2,
   "metadata": {
    "collapsed": false
   },
   "outputs": [
    {
     "name": "stderr",
     "output_type": "stream",
     "text": [
      "/dataquest/system/env/python3/lib/python3.4/site-packages/IPython/core/interactiveshell.py:2723: DtypeWarning: Columns (17,62) have mixed types. Specify dtype option on import or set low_memory=False.\n",
      "  interactivity=interactivity, compiler=compiler, result=result)\n"
     ]
    }
   ],
   "source": [
    "coders_surveys = pd.read_csv(\"2017-fCC-New-Coders-Survey-Data.csv\")"
   ]
  },
  {
   "cell_type": "code",
   "execution_count": 3,
   "metadata": {
    "collapsed": false
   },
   "outputs": [
    {
     "data": {
      "text/plain": [
       "(18175, 136)"
      ]
     },
     "execution_count": 3,
     "metadata": {},
     "output_type": "execute_result"
    }
   ],
   "source": [
    "coders_surveys.shape"
   ]
  },
  {
   "cell_type": "code",
   "execution_count": 4,
   "metadata": {
    "collapsed": false
   },
   "outputs": [
    {
     "data": {
      "text/html": [
       "<div>\n",
       "<style scoped>\n",
       "    .dataframe tbody tr th:only-of-type {\n",
       "        vertical-align: middle;\n",
       "    }\n",
       "\n",
       "    .dataframe tbody tr th {\n",
       "        vertical-align: top;\n",
       "    }\n",
       "\n",
       "    .dataframe thead th {\n",
       "        text-align: right;\n",
       "    }\n",
       "</style>\n",
       "<table border=\"1\" class=\"dataframe\">\n",
       "  <thead>\n",
       "    <tr style=\"text-align: right;\">\n",
       "      <th></th>\n",
       "      <th>Age</th>\n",
       "      <th>AttendedBootcamp</th>\n",
       "      <th>BootcampFinish</th>\n",
       "      <th>BootcampLoanYesNo</th>\n",
       "      <th>BootcampName</th>\n",
       "      <th>BootcampRecommend</th>\n",
       "      <th>ChildrenNumber</th>\n",
       "      <th>CityPopulation</th>\n",
       "      <th>CodeEventConferences</th>\n",
       "      <th>CodeEventDjangoGirls</th>\n",
       "      <th>...</th>\n",
       "      <th>YouTubeFCC</th>\n",
       "      <th>YouTubeFunFunFunction</th>\n",
       "      <th>YouTubeGoogleDev</th>\n",
       "      <th>YouTubeLearnCode</th>\n",
       "      <th>YouTubeLevelUpTuts</th>\n",
       "      <th>YouTubeMIT</th>\n",
       "      <th>YouTubeMozillaHacks</th>\n",
       "      <th>YouTubeOther</th>\n",
       "      <th>YouTubeSimplilearn</th>\n",
       "      <th>YouTubeTheNewBoston</th>\n",
       "    </tr>\n",
       "  </thead>\n",
       "  <tbody>\n",
       "    <tr>\n",
       "      <th>0</th>\n",
       "      <td>27.0</td>\n",
       "      <td>0.0</td>\n",
       "      <td>NaN</td>\n",
       "      <td>NaN</td>\n",
       "      <td>NaN</td>\n",
       "      <td>NaN</td>\n",
       "      <td>NaN</td>\n",
       "      <td>more than 1 million</td>\n",
       "      <td>NaN</td>\n",
       "      <td>NaN</td>\n",
       "      <td>...</td>\n",
       "      <td>NaN</td>\n",
       "      <td>NaN</td>\n",
       "      <td>NaN</td>\n",
       "      <td>NaN</td>\n",
       "      <td>NaN</td>\n",
       "      <td>NaN</td>\n",
       "      <td>NaN</td>\n",
       "      <td>NaN</td>\n",
       "      <td>NaN</td>\n",
       "      <td>NaN</td>\n",
       "    </tr>\n",
       "    <tr>\n",
       "      <th>1</th>\n",
       "      <td>34.0</td>\n",
       "      <td>0.0</td>\n",
       "      <td>NaN</td>\n",
       "      <td>NaN</td>\n",
       "      <td>NaN</td>\n",
       "      <td>NaN</td>\n",
       "      <td>NaN</td>\n",
       "      <td>less than 100,000</td>\n",
       "      <td>NaN</td>\n",
       "      <td>NaN</td>\n",
       "      <td>...</td>\n",
       "      <td>1.0</td>\n",
       "      <td>NaN</td>\n",
       "      <td>NaN</td>\n",
       "      <td>NaN</td>\n",
       "      <td>NaN</td>\n",
       "      <td>NaN</td>\n",
       "      <td>NaN</td>\n",
       "      <td>NaN</td>\n",
       "      <td>NaN</td>\n",
       "      <td>NaN</td>\n",
       "    </tr>\n",
       "    <tr>\n",
       "      <th>2</th>\n",
       "      <td>21.0</td>\n",
       "      <td>0.0</td>\n",
       "      <td>NaN</td>\n",
       "      <td>NaN</td>\n",
       "      <td>NaN</td>\n",
       "      <td>NaN</td>\n",
       "      <td>NaN</td>\n",
       "      <td>more than 1 million</td>\n",
       "      <td>NaN</td>\n",
       "      <td>NaN</td>\n",
       "      <td>...</td>\n",
       "      <td>NaN</td>\n",
       "      <td>NaN</td>\n",
       "      <td>NaN</td>\n",
       "      <td>1.0</td>\n",
       "      <td>1.0</td>\n",
       "      <td>NaN</td>\n",
       "      <td>NaN</td>\n",
       "      <td>NaN</td>\n",
       "      <td>NaN</td>\n",
       "      <td>NaN</td>\n",
       "    </tr>\n",
       "    <tr>\n",
       "      <th>3</th>\n",
       "      <td>26.0</td>\n",
       "      <td>0.0</td>\n",
       "      <td>NaN</td>\n",
       "      <td>NaN</td>\n",
       "      <td>NaN</td>\n",
       "      <td>NaN</td>\n",
       "      <td>NaN</td>\n",
       "      <td>between 100,000 and 1 million</td>\n",
       "      <td>NaN</td>\n",
       "      <td>NaN</td>\n",
       "      <td>...</td>\n",
       "      <td>1.0</td>\n",
       "      <td>1.0</td>\n",
       "      <td>NaN</td>\n",
       "      <td>NaN</td>\n",
       "      <td>1.0</td>\n",
       "      <td>NaN</td>\n",
       "      <td>NaN</td>\n",
       "      <td>NaN</td>\n",
       "      <td>NaN</td>\n",
       "      <td>NaN</td>\n",
       "    </tr>\n",
       "    <tr>\n",
       "      <th>4</th>\n",
       "      <td>20.0</td>\n",
       "      <td>0.0</td>\n",
       "      <td>NaN</td>\n",
       "      <td>NaN</td>\n",
       "      <td>NaN</td>\n",
       "      <td>NaN</td>\n",
       "      <td>NaN</td>\n",
       "      <td>between 100,000 and 1 million</td>\n",
       "      <td>NaN</td>\n",
       "      <td>NaN</td>\n",
       "      <td>...</td>\n",
       "      <td>NaN</td>\n",
       "      <td>NaN</td>\n",
       "      <td>NaN</td>\n",
       "      <td>NaN</td>\n",
       "      <td>NaN</td>\n",
       "      <td>NaN</td>\n",
       "      <td>NaN</td>\n",
       "      <td>NaN</td>\n",
       "      <td>NaN</td>\n",
       "      <td>NaN</td>\n",
       "    </tr>\n",
       "  </tbody>\n",
       "</table>\n",
       "<p>5 rows × 136 columns</p>\n",
       "</div>"
      ],
      "text/plain": [
       "    Age  AttendedBootcamp  BootcampFinish  BootcampLoanYesNo BootcampName  \\\n",
       "0  27.0               0.0             NaN                NaN          NaN   \n",
       "1  34.0               0.0             NaN                NaN          NaN   \n",
       "2  21.0               0.0             NaN                NaN          NaN   \n",
       "3  26.0               0.0             NaN                NaN          NaN   \n",
       "4  20.0               0.0             NaN                NaN          NaN   \n",
       "\n",
       "   BootcampRecommend  ChildrenNumber                 CityPopulation  \\\n",
       "0                NaN             NaN            more than 1 million   \n",
       "1                NaN             NaN              less than 100,000   \n",
       "2                NaN             NaN            more than 1 million   \n",
       "3                NaN             NaN  between 100,000 and 1 million   \n",
       "4                NaN             NaN  between 100,000 and 1 million   \n",
       "\n",
       "   CodeEventConferences  CodeEventDjangoGirls         ...           \\\n",
       "0                   NaN                   NaN         ...            \n",
       "1                   NaN                   NaN         ...            \n",
       "2                   NaN                   NaN         ...            \n",
       "3                   NaN                   NaN         ...            \n",
       "4                   NaN                   NaN         ...            \n",
       "\n",
       "   YouTubeFCC  YouTubeFunFunFunction  YouTubeGoogleDev  YouTubeLearnCode  \\\n",
       "0         NaN                    NaN               NaN               NaN   \n",
       "1         1.0                    NaN               NaN               NaN   \n",
       "2         NaN                    NaN               NaN               1.0   \n",
       "3         1.0                    1.0               NaN               NaN   \n",
       "4         NaN                    NaN               NaN               NaN   \n",
       "\n",
       "   YouTubeLevelUpTuts  YouTubeMIT  YouTubeMozillaHacks YouTubeOther  \\\n",
       "0                 NaN         NaN                  NaN          NaN   \n",
       "1                 NaN         NaN                  NaN          NaN   \n",
       "2                 1.0         NaN                  NaN          NaN   \n",
       "3                 1.0         NaN                  NaN          NaN   \n",
       "4                 NaN         NaN                  NaN          NaN   \n",
       "\n",
       "   YouTubeSimplilearn  YouTubeTheNewBoston  \n",
       "0                 NaN                  NaN  \n",
       "1                 NaN                  NaN  \n",
       "2                 NaN                  NaN  \n",
       "3                 NaN                  NaN  \n",
       "4                 NaN                  NaN  \n",
       "\n",
       "[5 rows x 136 columns]"
      ]
     },
     "execution_count": 4,
     "metadata": {},
     "output_type": "execute_result"
    }
   ],
   "source": [
    "coders_surveys.head()"
   ]
  },
  {
   "cell_type": "code",
   "execution_count": 5,
   "metadata": {
    "collapsed": false
   },
   "outputs": [
    {
     "data": {
      "text/plain": [
       "array(['Age', 'AttendedBootcamp', 'BootcampFinish', 'BootcampLoanYesNo',\n",
       "       'BootcampName', 'BootcampRecommend', 'ChildrenNumber',\n",
       "       'CityPopulation', 'CodeEventConferences', 'CodeEventDjangoGirls',\n",
       "       'CodeEventFCC', 'CodeEventGameJam', 'CodeEventGirlDev',\n",
       "       'CodeEventHackathons', 'CodeEventMeetup', 'CodeEventNodeSchool',\n",
       "       'CodeEventNone', 'CodeEventOther', 'CodeEventRailsBridge',\n",
       "       'CodeEventRailsGirls', 'CodeEventStartUpWknd',\n",
       "       'CodeEventWkdBootcamps', 'CodeEventWomenCode',\n",
       "       'CodeEventWorkshops', 'CommuteTime', 'CountryCitizen',\n",
       "       'CountryLive', 'EmploymentField', 'EmploymentFieldOther',\n",
       "       'EmploymentStatus', 'EmploymentStatusOther', 'ExpectedEarning',\n",
       "       'FinanciallySupporting', 'FirstDevJob', 'Gender', 'GenderOther',\n",
       "       'HasChildren', 'HasDebt', 'HasFinancialDependents',\n",
       "       'HasHighSpdInternet', 'HasHomeMortgage', 'HasServedInMilitary',\n",
       "       'HasStudentDebt', 'HomeMortgageOwe', 'HoursLearning', 'ID.x',\n",
       "       'ID.y', 'Income', 'IsEthnicMinority',\n",
       "       'IsReceiveDisabilitiesBenefits', 'IsSoftwareDev',\n",
       "       'IsUnderEmployed', 'JobApplyWhen', 'JobInterestBackEnd',\n",
       "       'JobInterestDataEngr', 'JobInterestDataSci', 'JobInterestDevOps',\n",
       "       'JobInterestFrontEnd', 'JobInterestFullStack',\n",
       "       'JobInterestGameDev', 'JobInterestInfoSec', 'JobInterestMobile',\n",
       "       'JobInterestOther', 'JobInterestProjMngr', 'JobInterestQAEngr',\n",
       "       'JobInterestUX', 'JobPref', 'JobRelocateYesNo', 'JobRoleInterest',\n",
       "       'JobWherePref', 'LanguageAtHome', 'MaritalStatus',\n",
       "       'MoneyForLearning', 'MonthsProgramming', 'NetworkID',\n",
       "       'Part1EndTime', 'Part1StartTime', 'Part2EndTime', 'Part2StartTime',\n",
       "       'PodcastChangeLog', 'PodcastCodeNewbie', 'PodcastCodePen',\n",
       "       'PodcastDevTea', 'PodcastDotNET', 'PodcastGiantRobots',\n",
       "       'PodcastJSAir', 'PodcastJSJabber', 'PodcastNone', 'PodcastOther',\n",
       "       'PodcastProgThrowdown', 'PodcastRubyRogues', 'PodcastSEDaily',\n",
       "       'PodcastSERadio', 'PodcastShopTalk', 'PodcastTalkPython',\n",
       "       'PodcastTheWebAhead', 'ResourceCodecademy', 'ResourceCodeWars',\n",
       "       'ResourceCoursera', 'ResourceCSS', 'ResourceEdX',\n",
       "       'ResourceEgghead', 'ResourceFCC', 'ResourceHackerRank',\n",
       "       'ResourceKA', 'ResourceLynda', 'ResourceMDN', 'ResourceOdinProj',\n",
       "       'ResourceOther', 'ResourcePluralSight', 'ResourceSkillcrush',\n",
       "       'ResourceSO', 'ResourceTreehouse', 'ResourceUdacity',\n",
       "       'ResourceUdemy', 'ResourceW3S', 'SchoolDegree', 'SchoolMajor',\n",
       "       'StudentDebtOwe', 'YouTubeCodeCourse', 'YouTubeCodingTrain',\n",
       "       'YouTubeCodingTut360', 'YouTubeComputerphile', 'YouTubeDerekBanas',\n",
       "       'YouTubeDevTips', 'YouTubeEngineeredTruth', 'YouTubeFCC',\n",
       "       'YouTubeFunFunFunction', 'YouTubeGoogleDev', 'YouTubeLearnCode',\n",
       "       'YouTubeLevelUpTuts', 'YouTubeMIT', 'YouTubeMozillaHacks',\n",
       "       'YouTubeOther', 'YouTubeSimplilearn', 'YouTubeTheNewBoston'],\n",
       "      dtype=object)"
      ]
     },
     "execution_count": 5,
     "metadata": {},
     "output_type": "execute_result"
    }
   ],
   "source": [
    "coders_surveys.columns.values"
   ]
  },
  {
   "cell_type": "markdown",
   "metadata": {},
   "source": [
    "Organizing own survey could be very expensive, so it is cheaper to use the data which already exists. Great source is freeCodeCamp survey which contain relevant data. FreeCodeCamp is a free e-learning platform that offers courses on web development. Data could be downloaded from https://github.com/freeCodeCamp/2017-new-coder-survey"
   ]
  },
  {
   "cell_type": "code",
   "execution_count": 6,
   "metadata": {
    "collapsed": false,
    "scrolled": false
   },
   "outputs": [
    {
     "data": {
      "text/plain": [
       "Full-Stack Web Developer     823\n",
       "  Front-End Web Developer    450\n",
       "  Data Scientist             152\n",
       "Back-End Web Developer       142\n",
       "  Mobile Developer           117\n",
       "Name: JobRoleInterest, dtype: int64"
      ]
     },
     "execution_count": 6,
     "metadata": {},
     "output_type": "execute_result"
    }
   ],
   "source": [
    "coders_surveys[\"JobRoleInterest\"].value_counts().head()"
   ]
  },
  {
   "cell_type": "markdown",
   "metadata": {},
   "source": [
    "Freqency table of roles which people are interested allows to tell if it is a good population for our purposes. First of all it is visible that people are interested in many subjects. It is not the problem, because that means that people are probably not decided clearly and that means that people still could be interested in one of choosen courses. What more in order to be professional it is need to have a broad knowledge from many fields. Let see how many people are insterested in more than one subject."
   ]
  },
  {
   "cell_type": "code",
   "execution_count": 7,
   "metadata": {
    "collapsed": false
   },
   "outputs": [
    {
     "name": "stdout",
     "output_type": "stream",
     "text": [
      "There are 4779 from 18175 coders which are interests in more than one subjects\n"
     ]
    }
   ],
   "source": [
    "many_interests_idx = coders_surveys[\"JobRoleInterest\"].value_counts().index.str.contains(\",\")\n",
    "coders_many_interests = coders_surveys[\"JobRoleInterest\"].value_counts()[many_interests_idx].sum()\n",
    "print(\"There are {} from {} coders which are interests in more than one subjects\".format(coders_many_interests,len(coders_surveys)))"
   ]
  },
  {
   "cell_type": "markdown",
   "metadata": {},
   "source": [
    "As we are interested only in surveys which contains intrests, let's drop all the not answered rows."
   ]
  },
  {
   "cell_type": "code",
   "execution_count": 8,
   "metadata": {
    "collapsed": false
   },
   "outputs": [],
   "source": [
    "coders_surveys_updated = coders_surveys.dropna(subset=[\"JobRoleInterest\"], \n",
    "                                              axis=0)"
   ]
  },
  {
   "cell_type": "code",
   "execution_count": 9,
   "metadata": {
    "collapsed": false
   },
   "outputs": [
    {
     "data": {
      "text/plain": [
       "United States of America    3125\n",
       "India                        528\n",
       "United Kingdom               315\n",
       "Canada                       260\n",
       "Poland                       131\n",
       "Name: CountryLive, dtype: int64"
      ]
     },
     "execution_count": 9,
     "metadata": {},
     "output_type": "execute_result"
    }
   ],
   "source": [
    "coders_surveys_updated[\"CountryLive\"].value_counts().head()"
   ]
  },
  {
   "cell_type": "code",
   "execution_count": 10,
   "metadata": {
    "collapsed": false
   },
   "outputs": [
    {
     "data": {
      "text/plain": [
       "United States of America    45.700497\n",
       "India                        7.721556\n",
       "United Kingdom               4.606610\n",
       "Canada                       3.802281\n",
       "Poland                       1.915765\n",
       "Name: CountryLive, dtype: float64"
      ]
     },
     "execution_count": 10,
     "metadata": {},
     "output_type": "execute_result"
    }
   ],
   "source": [
    "(coders_surveys_updated[\"CountryLive\"].value_counts(normalize=True)*100).head()"
   ]
  },
  {
   "cell_type": "markdown",
   "metadata": {
    "collapsed": true
   },
   "source": [
    "It seems that most important markets are USA, India, UK, and Canada which takes more than 50% of all markets. What's more those countries are English speaking. It is also necessary to know which markets are willing to spend money on courses. We need to know how much each participant in most popular countries spend on courses in month."
   ]
  },
  {
   "cell_type": "code",
   "execution_count": 11,
   "metadata": {
    "collapsed": false
   },
   "outputs": [
    {
     "data": {
      "text/plain": [
       "(4359, 136)"
      ]
     },
     "execution_count": 11,
     "metadata": {},
     "output_type": "execute_result"
    }
   ],
   "source": [
    "countries = [\"United States of America\",\"India\",\"United Kingdom\",\"Canada\",\"Poland\"]\n",
    "coders_surveys_cleaned = coders_surveys_updated[coders_surveys_updated[\"CountryLive\"].isin(countries)]\n",
    "coders_surveys_cleaned.shape"
   ]
  },
  {
   "cell_type": "code",
   "execution_count": 12,
   "metadata": {
    "collapsed": false
   },
   "outputs": [
    {
     "name": "stderr",
     "output_type": "stream",
     "text": [
      "/dataquest/system/env/python3/lib/python3.4/site-packages/pandas/core/indexing.py:537: SettingWithCopyWarning: \n",
      "A value is trying to be set on a copy of a slice from a DataFrame.\n",
      "Try using .loc[row_indexer,col_indexer] = value instead\n",
      "\n",
      "See the caveats in the documentation: http://pandas.pydata.org/pandas-docs/stable/indexing.html#indexing-view-versus-copy\n",
      "  self.obj[item] = s\n",
      "/dataquest/system/env/python3/lib/python3.4/site-packages/ipykernel/__main__.py:3: SettingWithCopyWarning: \n",
      "A value is trying to be set on a copy of a slice from a DataFrame.\n",
      "Try using .loc[row_indexer,col_indexer] = value instead\n",
      "\n",
      "See the caveats in the documentation: http://pandas.pydata.org/pandas-docs/stable/indexing.html#indexing-view-versus-copy\n",
      "  app.launch_new_instance()\n"
     ]
    }
   ],
   "source": [
    "coders_surveys_cleaned[\"MonthsProgramming\"].replace(0,1, inplace = True)\n",
    "coders_surveys_cleaned[coders_surveys_cleaned[\"MonthsProgramming\"]==0]\n",
    "coders_surveys_cleaned[\"MoneyPerMonth\"] = coders_surveys_cleaned[\"MoneyForLearning\"]/coders_surveys_cleaned[\"MonthsProgramming\"]"
   ]
  },
  {
   "cell_type": "code",
   "execution_count": 13,
   "metadata": {
    "collapsed": false
   },
   "outputs": [
    {
     "data": {
      "text/plain": [
       "322"
      ]
     },
     "execution_count": 13,
     "metadata": {},
     "output_type": "execute_result"
    }
   ],
   "source": [
    "coders_surveys_cleaned[\"MoneyPerMonth\"].isnull().sum()"
   ]
  },
  {
   "cell_type": "code",
   "execution_count": 14,
   "metadata": {
    "collapsed": true
   },
   "outputs": [],
   "source": [
    "coders_surveys_cleaned = coders_surveys_cleaned.dropna(subset=[\"MoneyPerMonth\",\"CountryLive\"], \n",
    "                                                      axis=0)"
   ]
  },
  {
   "cell_type": "code",
   "execution_count": 15,
   "metadata": {
    "collapsed": false
   },
   "outputs": [
    {
     "data": {
      "text/plain": [
       "(4037, 137)"
      ]
     },
     "execution_count": 15,
     "metadata": {},
     "output_type": "execute_result"
    }
   ],
   "source": [
    "coders_surveys_cleaned.shape"
   ]
  },
  {
   "cell_type": "code",
   "execution_count": 16,
   "metadata": {
    "collapsed": false
   },
   "outputs": [],
   "source": [
    "grouped_money_per_month = coders_surveys_cleaned.groupby(\"CountryLive\")[\"MoneyPerMonth\"]"
   ]
  },
  {
   "cell_type": "code",
   "execution_count": 17,
   "metadata": {
    "collapsed": false
   },
   "outputs": [
    {
     "data": {
      "text/plain": [
       "CountryLive\n",
       "Canada                      113.510961\n",
       "India                       135.100982\n",
       "Poland                       75.678935\n",
       "United Kingdom               45.534443\n",
       "United States of America    227.997996\n",
       "Name: MoneyPerMonth, dtype: float64"
      ]
     },
     "execution_count": 17,
     "metadata": {},
     "output_type": "execute_result"
    }
   ],
   "source": [
    "grouped_money_per_month.mean()"
   ]
  },
  {
   "cell_type": "code",
   "execution_count": 18,
   "metadata": {
    "collapsed": false
   },
   "outputs": [
    {
     "data": {
      "text/plain": [
       "CountryLive\n",
       "Canada                      0.000000\n",
       "India                       0.000000\n",
       "Poland                      0.333333\n",
       "United Kingdom              0.000000\n",
       "United States of America    3.333333\n",
       "Name: MoneyPerMonth, dtype: float64"
      ]
     },
     "execution_count": 18,
     "metadata": {},
     "output_type": "execute_result"
    }
   ],
   "source": [
    "grouped_money_per_month.median()"
   ]
  },
  {
   "cell_type": "markdown",
   "metadata": {},
   "source": [
    "Participants from USA on average spend most of the money, and the UK spend the least amount. What more most of the participants in all countries, except USA did not spend any money on courses. It is interesting that countries which are richer than India like Canada or UK, spend less money. "
   ]
  },
  {
   "cell_type": "code",
   "execution_count": 69,
   "metadata": {
    "collapsed": false
   },
   "outputs": [
    {
     "data": {
      "text/plain": [
       "(0, 10000)"
      ]
     },
     "execution_count": 69,
     "metadata": {},
     "output_type": "execute_result"
    },
    {
     "data": {
      "image/png": "[encoded data removed]",
      "text/plain": [
       "<matplotlib.figure.Figure at 0x7f6d3842e630>"
      ]
     },
     "metadata": {},
     "output_type": "display_data"
    }
   ],
   "source": [
    "coders_surveys_cleaned.boxplot(column = [\"MoneyPerMonth\"],by='CountryLive')\n",
    "plt.ylim(0,10000)"
   ]
  },
  {
   "cell_type": "code",
   "execution_count": 70,
   "metadata": {
    "collapsed": false
   },
   "outputs": [
    {
     "data": {
      "text/html": [
       "<div>\n",
       "<style scoped>\n",
       "    .dataframe tbody tr th:only-of-type {\n",
       "        vertical-align: middle;\n",
       "    }\n",
       "\n",
       "    .dataframe tbody tr th {\n",
       "        vertical-align: top;\n",
       "    }\n",
       "\n",
       "    .dataframe thead th {\n",
       "        text-align: right;\n",
       "    }\n",
       "</style>\n",
       "<table border=\"1\" class=\"dataframe\">\n",
       "  <thead>\n",
       "    <tr style=\"text-align: right;\">\n",
       "      <th></th>\n",
       "      <th>Age</th>\n",
       "      <th>AttendedBootcamp</th>\n",
       "      <th>BootcampFinish</th>\n",
       "      <th>BootcampLoanYesNo</th>\n",
       "      <th>BootcampName</th>\n",
       "      <th>BootcampRecommend</th>\n",
       "      <th>ChildrenNumber</th>\n",
       "      <th>CityPopulation</th>\n",
       "      <th>CodeEventConferences</th>\n",
       "      <th>CodeEventDjangoGirls</th>\n",
       "      <th>...</th>\n",
       "      <th>YouTubeFunFunFunction</th>\n",
       "      <th>YouTubeGoogleDev</th>\n",
       "      <th>YouTubeLearnCode</th>\n",
       "      <th>YouTubeLevelUpTuts</th>\n",
       "      <th>YouTubeMIT</th>\n",
       "      <th>YouTubeMozillaHacks</th>\n",
       "      <th>YouTubeOther</th>\n",
       "      <th>YouTubeSimplilearn</th>\n",
       "      <th>YouTubeTheNewBoston</th>\n",
       "      <th>MoneyPerMonth</th>\n",
       "    </tr>\n",
       "  </thead>\n",
       "  <tbody>\n",
       "    <tr>\n",
       "      <th>1728</th>\n",
       "      <td>24.0</td>\n",
       "      <td>0.0</td>\n",
       "      <td>NaN</td>\n",
       "      <td>NaN</td>\n",
       "      <td>NaN</td>\n",
       "      <td>NaN</td>\n",
       "      <td>NaN</td>\n",
       "      <td>between 100,000 and 1 million</td>\n",
       "      <td>NaN</td>\n",
       "      <td>NaN</td>\n",
       "      <td>...</td>\n",
       "      <td>NaN</td>\n",
       "      <td>NaN</td>\n",
       "      <td>NaN</td>\n",
       "      <td>NaN</td>\n",
       "      <td>NaN</td>\n",
       "      <td>NaN</td>\n",
       "      <td>NaN</td>\n",
       "      <td>NaN</td>\n",
       "      <td>NaN</td>\n",
       "      <td>5000.000000</td>\n",
       "    </tr>\n",
       "    <tr>\n",
       "      <th>1755</th>\n",
       "      <td>20.0</td>\n",
       "      <td>0.0</td>\n",
       "      <td>NaN</td>\n",
       "      <td>NaN</td>\n",
       "      <td>NaN</td>\n",
       "      <td>NaN</td>\n",
       "      <td>NaN</td>\n",
       "      <td>more than 1 million</td>\n",
       "      <td>NaN</td>\n",
       "      <td>NaN</td>\n",
       "      <td>...</td>\n",
       "      <td>NaN</td>\n",
       "      <td>NaN</td>\n",
       "      <td>1.0</td>\n",
       "      <td>NaN</td>\n",
       "      <td>1.0</td>\n",
       "      <td>NaN</td>\n",
       "      <td>NaN</td>\n",
       "      <td>NaN</td>\n",
       "      <td>NaN</td>\n",
       "      <td>3333.333333</td>\n",
       "    </tr>\n",
       "    <tr>\n",
       "      <th>7989</th>\n",
       "      <td>28.0</td>\n",
       "      <td>0.0</td>\n",
       "      <td>NaN</td>\n",
       "      <td>NaN</td>\n",
       "      <td>NaN</td>\n",
       "      <td>NaN</td>\n",
       "      <td>NaN</td>\n",
       "      <td>between 100,000 and 1 million</td>\n",
       "      <td>1.0</td>\n",
       "      <td>NaN</td>\n",
       "      <td>...</td>\n",
       "      <td>NaN</td>\n",
       "      <td>NaN</td>\n",
       "      <td>NaN</td>\n",
       "      <td>NaN</td>\n",
       "      <td>NaN</td>\n",
       "      <td>NaN</td>\n",
       "      <td>NaN</td>\n",
       "      <td>NaN</td>\n",
       "      <td>NaN</td>\n",
       "      <td>5000.000000</td>\n",
       "    </tr>\n",
       "    <tr>\n",
       "      <th>8126</th>\n",
       "      <td>22.0</td>\n",
       "      <td>0.0</td>\n",
       "      <td>NaN</td>\n",
       "      <td>NaN</td>\n",
       "      <td>NaN</td>\n",
       "      <td>NaN</td>\n",
       "      <td>NaN</td>\n",
       "      <td>more than 1 million</td>\n",
       "      <td>NaN</td>\n",
       "      <td>NaN</td>\n",
       "      <td>...</td>\n",
       "      <td>NaN</td>\n",
       "      <td>1.0</td>\n",
       "      <td>NaN</td>\n",
       "      <td>NaN</td>\n",
       "      <td>1.0</td>\n",
       "      <td>NaN</td>\n",
       "      <td>NaN</td>\n",
       "      <td>NaN</td>\n",
       "      <td>1.0</td>\n",
       "      <td>5000.000000</td>\n",
       "    </tr>\n",
       "    <tr>\n",
       "      <th>13398</th>\n",
       "      <td>19.0</td>\n",
       "      <td>0.0</td>\n",
       "      <td>NaN</td>\n",
       "      <td>NaN</td>\n",
       "      <td>NaN</td>\n",
       "      <td>NaN</td>\n",
       "      <td>NaN</td>\n",
       "      <td>more than 1 million</td>\n",
       "      <td>NaN</td>\n",
       "      <td>NaN</td>\n",
       "      <td>...</td>\n",
       "      <td>NaN</td>\n",
       "      <td>NaN</td>\n",
       "      <td>NaN</td>\n",
       "      <td>NaN</td>\n",
       "      <td>NaN</td>\n",
       "      <td>NaN</td>\n",
       "      <td>NaN</td>\n",
       "      <td>NaN</td>\n",
       "      <td>NaN</td>\n",
       "      <td>10000.000000</td>\n",
       "    </tr>\n",
       "    <tr>\n",
       "      <th>13659</th>\n",
       "      <td>24.0</td>\n",
       "      <td>1.0</td>\n",
       "      <td>0.0</td>\n",
       "      <td>0.0</td>\n",
       "      <td>Bloc.io</td>\n",
       "      <td>1.0</td>\n",
       "      <td>NaN</td>\n",
       "      <td>more than 1 million</td>\n",
       "      <td>1.0</td>\n",
       "      <td>NaN</td>\n",
       "      <td>...</td>\n",
       "      <td>NaN</td>\n",
       "      <td>NaN</td>\n",
       "      <td>NaN</td>\n",
       "      <td>NaN</td>\n",
       "      <td>1.0</td>\n",
       "      <td>NaN</td>\n",
       "      <td>NaN</td>\n",
       "      <td>NaN</td>\n",
       "      <td>NaN</td>\n",
       "      <td>5000.000000</td>\n",
       "    </tr>\n",
       "    <tr>\n",
       "      <th>15587</th>\n",
       "      <td>27.0</td>\n",
       "      <td>0.0</td>\n",
       "      <td>NaN</td>\n",
       "      <td>NaN</td>\n",
       "      <td>NaN</td>\n",
       "      <td>NaN</td>\n",
       "      <td>NaN</td>\n",
       "      <td>more than 1 million</td>\n",
       "      <td>NaN</td>\n",
       "      <td>NaN</td>\n",
       "      <td>...</td>\n",
       "      <td>NaN</td>\n",
       "      <td>1.0</td>\n",
       "      <td>1.0</td>\n",
       "      <td>NaN</td>\n",
       "      <td>1.0</td>\n",
       "      <td>NaN</td>\n",
       "      <td>NaN</td>\n",
       "      <td>NaN</td>\n",
       "      <td>NaN</td>\n",
       "      <td>4166.666667</td>\n",
       "    </tr>\n",
       "  </tbody>\n",
       "</table>\n",
       "<p>7 rows × 137 columns</p>\n",
       "</div>"
      ],
      "text/plain": [
       "        Age  AttendedBootcamp  BootcampFinish  BootcampLoanYesNo BootcampName  \\\n",
       "1728   24.0               0.0             NaN                NaN          NaN   \n",
       "1755   20.0               0.0             NaN                NaN          NaN   \n",
       "7989   28.0               0.0             NaN                NaN          NaN   \n",
       "8126   22.0               0.0             NaN                NaN          NaN   \n",
       "13398  19.0               0.0             NaN                NaN          NaN   \n",
       "13659  24.0               1.0             0.0                0.0      Bloc.io   \n",
       "15587  27.0               0.0             NaN                NaN          NaN   \n",
       "\n",
       "       BootcampRecommend  ChildrenNumber                 CityPopulation  \\\n",
       "1728                 NaN             NaN  between 100,000 and 1 million   \n",
       "1755                 NaN             NaN            more than 1 million   \n",
       "7989                 NaN             NaN  between 100,000 and 1 million   \n",
       "8126                 NaN             NaN            more than 1 million   \n",
       "13398                NaN             NaN            more than 1 million   \n",
       "13659                1.0             NaN            more than 1 million   \n",
       "15587                NaN             NaN            more than 1 million   \n",
       "\n",
       "       CodeEventConferences  CodeEventDjangoGirls      ...        \\\n",
       "1728                    NaN                   NaN      ...         \n",
       "1755                    NaN                   NaN      ...         \n",
       "7989                    1.0                   NaN      ...         \n",
       "8126                    NaN                   NaN      ...         \n",
       "13398                   NaN                   NaN      ...         \n",
       "13659                   1.0                   NaN      ...         \n",
       "15587                   NaN                   NaN      ...         \n",
       "\n",
       "       YouTubeFunFunFunction  YouTubeGoogleDev  YouTubeLearnCode  \\\n",
       "1728                     NaN               NaN               NaN   \n",
       "1755                     NaN               NaN               1.0   \n",
       "7989                     NaN               NaN               NaN   \n",
       "8126                     NaN               1.0               NaN   \n",
       "13398                    NaN               NaN               NaN   \n",
       "13659                    NaN               NaN               NaN   \n",
       "15587                    NaN               1.0               1.0   \n",
       "\n",
       "       YouTubeLevelUpTuts  YouTubeMIT  YouTubeMozillaHacks  YouTubeOther  \\\n",
       "1728                  NaN         NaN                  NaN           NaN   \n",
       "1755                  NaN         1.0                  NaN           NaN   \n",
       "7989                  NaN         NaN                  NaN           NaN   \n",
       "8126                  NaN         1.0                  NaN           NaN   \n",
       "13398                 NaN         NaN                  NaN           NaN   \n",
       "13659                 NaN         1.0                  NaN           NaN   \n",
       "15587                 NaN         1.0                  NaN           NaN   \n",
       "\n",
       "      YouTubeSimplilearn  YouTubeTheNewBoston  MoneyPerMonth  \n",
       "1728                 NaN                  NaN    5000.000000  \n",
       "1755                 NaN                  NaN    3333.333333  \n",
       "7989                 NaN                  NaN    5000.000000  \n",
       "8126                 NaN                  1.0    5000.000000  \n",
       "13398                NaN                  NaN   10000.000000  \n",
       "13659                NaN                  NaN    5000.000000  \n",
       "15587                NaN                  NaN    4166.666667  \n",
       "\n",
       "[7 rows x 137 columns]"
      ]
     },
     "execution_count": 70,
     "metadata": {},
     "output_type": "execute_result"
    }
   ],
   "source": [
    "coders_surveys_cleaned[(coders_surveys_cleaned[\"MoneyPerMonth\"]>3000)&(india_canada_idx)]"
   ]
  },
  {
   "cell_type": "markdown",
   "metadata": {
    "collapsed": true
   },
   "source": [
    "There are some outliers in the data. For example there are only few people in india which paid more than 3000 dollars. Since most of those people did not attend any bootcamp it is not justified to see such high values. We can remove them from dataset."
   ]
  },
  {
   "cell_type": "code",
   "execution_count": 71,
   "metadata": {
    "collapsed": false
   },
   "outputs": [
    {
     "name": "stderr",
     "output_type": "stream",
     "text": [
      "/dataquest/system/env/python3/lib/python3.4/site-packages/ipykernel/__main__.py:9: UserWarning: Boolean Series key will be reindexed to match DataFrame index.\n"
     ]
    }
   ],
   "source": [
    "india_canada_idx = (coders_surveys_cleaned[\"CountryLive\"] == \"India\")|(coders_surveys_cleaned[\"CountryLive\"]==\"Canada\")\n",
    "usa_idx = coders_surveys_outliers_removed[\"CountryLive\"]==\"United States of America\"\n",
    "#drop india and canada outliers \n",
    "coders_surveys_outliers_removed = coders_surveys_cleaned.drop(\n",
    "    coders_surveys_cleaned[(coders_surveys_cleaned[\"MoneyPerMonth\"]>3000)&(india_canada_idx)].index\n",
    ")\n",
    "#drop usa outliers\n",
    "coders_surveys_outliers_removed = coders_surveys_outliers_removed.drop(\n",
    "    coders_surveys_outliers_removed[(coders_surveys_cleaned[\"MoneyPerMonth\"]>5000)&(usa_idx)].index\n",
    ")"
   ]
  },
  {
   "cell_type": "code",
   "execution_count": 72,
   "metadata": {
    "collapsed": false
   },
   "outputs": [
    {
     "data": {
      "text/plain": [
       "CountryLive\n",
       "Canada                       93.065400\n",
       "India                        65.758763\n",
       "Poland                       75.678935\n",
       "United Kingdom               45.534443\n",
       "United States of America    138.982678\n",
       "Name: MoneyPerMonth, dtype: float64"
      ]
     },
     "execution_count": 72,
     "metadata": {},
     "output_type": "execute_result"
    }
   ],
   "source": [
    "coders_surveys_outliers_removed.groupby(\"CountryLive\")[\"MoneyPerMonth\"].mean()"
   ]
  },
  {
   "cell_type": "markdown",
   "metadata": {},
   "source": [
    "After removing outliers data is more reliable. The most important market which should be advertised is USA. Country has a lot of coders which are willing to pay the most in comparision to other countries. As a second country to advertise I would choose India. However Canadian participants are willing to pay more, the average difference participants spent in month is only ~17 dollars and India has twice more participants than Canada.\n",
    "\n",
    "I would split the available budget by spending 15% for India and 85% for USA. Firstly because USA has 45% of all participants. Secondly, USA's participants spend twice much than Inidians. I think that focusing only on one county is a bad idea, because market is changing very fast, and it is good to have client from different countries. It could be profitable in feature to advertise other country than USA even only by 15% of all company budget. India is growing in people who are willing to programming."
   ]
  },
  {
   "cell_type": "code",
   "execution_count": null,
   "metadata": {
    "collapsed": true
   },
   "outputs": [],
   "source": []
  }
 ],
 "metadata": {
  "kernelspec": {
   "display_name": "Python 3",
   "language": "python",
   "name": "python3"
  },
  "language_info": {
   "codemirror_mode": {
    "name": "ipython",
    "version": 3
   },
   "file_extension": ".py",
   "mimetype": "text/x-python",
   "name": "python",
   "nbconvert_exporter": "python",
   "pygments_lexer": "ipython3",
   "version": "3.4.3"
  }
 },
 "nbformat": 4,
 "nbformat_minor": 2
}
